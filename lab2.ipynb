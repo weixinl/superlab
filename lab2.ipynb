{
 "cells": [
  {
   "cell_type": "code",
   "execution_count": 1,
   "id": "2b044511-1abc-4a83-9861-ffeb0f93cc55",
   "metadata": {},
   "outputs": [],
   "source": [
    "import numpy as np"
   ]
  },
  {
   "cell_type": "code",
   "execution_count": 24,
   "id": "b8410f86-01f3-4af6-8061-8f71581a01ba",
   "metadata": {},
   "outputs": [],
   "source": [
    "electron = 1.6*1e-19\n",
    "C_sigma = 52 * 1e-15\n",
    "C = C_sigma\n",
    "h = 6.63 * 1e-34\n",
    "h_bar = h/2/np.pi"
   ]
  },
  {
   "cell_type": "markdown",
   "id": "1d69dc4b-0977-4a6d-b2a8-1535297f176f",
   "metadata": {},
   "source": [
    "## Q1(a)"
   ]
  },
  {
   "cell_type": "code",
   "execution_count": null,
   "id": "b68cb9c3-b64d-4633-83af-ad089ca697ff",
   "metadata": {},
   "outputs": [],
   "source": []
  },
  {
   "cell_type": "markdown",
   "id": "e1578d76-7c1c-4de6-9730-1138315e6f65",
   "metadata": {},
   "source": [
    "## Q1(b)\n",
    "6mm, 10Hz\n",
    "$$L = \\lambda/2, w = c/ \\lambda$$\n",
    "\n",
    "8.57mm, 6.82Hz\n",
    "\n",
    "8.5 mm, 6.87Hz\n",
    "\n",
    "8.4mm , 6.9 Hz (10 passes) 7 Hz(20 passes)\n",
    "\n",
    "We need 8.4mm"
   ]
  },
  {
   "cell_type": "markdown",
   "id": "9bbaab2c-23b6-493f-acf0-39f9d0f2ea64",
   "metadata": {},
   "source": [
    "## Q2"
   ]
  },
  {
   "cell_type": "markdown",
   "id": "67cd429b-558d-471e-91c7-b7520288105a",
   "metadata": {},
   "source": [
    "$E_c$ (in frequency)"
   ]
  },
  {
   "cell_type": "code",
   "execution_count": 5,
   "id": "7cfb4d64-d9d3-4ffe-90f4-8337190d5469",
   "metadata": {},
   "outputs": [],
   "source": [
    "Ec_f = electron * electron / 2/ C/ h"
   ]
  },
  {
   "cell_type": "code",
   "execution_count": 6,
   "id": "07db383d-f0f1-4de4-83ff-d460677b56c3",
   "metadata": {},
   "outputs": [
    {
     "data": {
      "text/plain": [
       "371272769.46281475"
      ]
     },
     "execution_count": 6,
     "metadata": {},
     "output_type": "execute_result"
    }
   ],
   "source": [
    "Ec_f"
   ]
  },
  {
   "cell_type": "code",
   "execution_count": 9,
   "id": "d1e6bd0f-754d-447a-a4f7-1a5f166cf826",
   "metadata": {},
   "outputs": [],
   "source": [
    "Ec = h * Ec_f"
   ]
  },
  {
   "cell_type": "code",
   "execution_count": 12,
   "id": "7faae106-73e8-47e5-b20f-d328170596e6",
   "metadata": {},
   "outputs": [
    {
     "data": {
      "text/plain": [
       "2.4615384615384615e-25"
      ]
     },
     "execution_count": 12,
     "metadata": {},
     "output_type": "execute_result"
    }
   ],
   "source": [
    "Ec"
   ]
  },
  {
   "cell_type": "code",
   "execution_count": 26,
   "id": "74f9321d-e3e6-4719-8a2e-b5fcebcc5593",
   "metadata": {},
   "outputs": [],
   "source": [
    "# magnetic flux quantum\n",
    "phi0 = 2.068 * 1e-15\n",
    "L = 10 * 1e-9\n",
    "Ej_f = phi0* phi0 / 4 / np.pi / np.pi / L / h\n",
    "Ej = Ej_f * h"
   ]
  },
  {
   "cell_type": "code",
   "execution_count": 8,
   "id": "c7608fcd-5f1e-4c82-8b0c-1d0b195620b9",
   "metadata": {},
   "outputs": [
    {
     "data": {
      "text/plain": [
       "44.00831151368733"
      ]
     },
     "execution_count": 8,
     "metadata": {},
     "output_type": "execute_result"
    }
   ],
   "source": [
    "Ej_f/ Ec_f"
   ]
  },
  {
   "cell_type": "markdown",
   "id": "4691ea58-f326-4c47-92fb-f9fcd001d062",
   "metadata": {},
   "source": [
    "Transmon: $E_j/E_c$ >> 1\n",
    "\n",
    "It's a transmon"
   ]
  },
  {
   "cell_type": "markdown",
   "id": "eab1fd5b-2c69-4a8b-82e4-ffb3a18ce754",
   "metadata": {},
   "source": [
    "## Q3(a)\n",
    "\n",
    "$$g = w_r * \\frac{C_g}{C_\\Sigma}(\\frac{E_J}{2 E_C})^{\\frac{1}{4}}\\sqrt{\\frac{\\pi Z_r}{R_K}}$$\n",
    "$$ \\frac{g}{2\\pi} = 100 MHz$$\n",
    "$$ C_\\Sigma = \\frac{e^2}{2E_c}$$"
   ]
  },
  {
   "cell_type": "markdown",
   "id": "126bdc0b-4940-4db5-8015-954c1988319f",
   "metadata": {},
   "source": [
    "$$ w_r = g \\frac{C_\\Sigma}{C_g}(\\frac{2E_C}{E_J})^{\\frac{1}{4}}\\sqrt{\\frac{R_K}{\\pi Z_r}}$$"
   ]
  },
  {
   "cell_type": "code",
   "execution_count": 19,
   "id": "e0a4c2cd-e8a6-446e-a506-85c85f0754e4",
   "metadata": {},
   "outputs": [],
   "source": [
    "R_k = 25.8*1000\n",
    "Z_r = 50\n",
    "C_g = 20.867*1e-12 ## (readout_connector_pad_Q1, pad_top_Q1)\n",
    "# C_sigma = electron*electron/2/Ec"
   ]
  },
  {
   "cell_type": "code",
   "execution_count": 21,
   "id": "72a958fa-dc75-4281-b98e-d6c23707d3f3",
   "metadata": {},
   "outputs": [],
   "source": [
    "g = 100* 1e6 * 2 * np.pi\n",
    "w_r = g*C_sigma/C_g*pow(2*Ec_f/Ej_f, 0.25)*np.sqrt(R_k/np.pi/Z_r)"
   ]
  },
  {
   "cell_type": "markdown",
   "id": "a8ef67d1-6fde-49c2-b279-84594fa268d1",
   "metadata": {},
   "source": [
    "### Q3(a)(i)"
   ]
  },
  {
   "cell_type": "code",
   "execution_count": 22,
   "id": "0ed24114-e0d3-4064-bad2-0b601188a7b3",
   "metadata": {},
   "outputs": [
    {
     "data": {
      "text/plain": [
       "9265032.195327032"
      ]
     },
     "execution_count": 22,
     "metadata": {},
     "output_type": "execute_result"
    }
   ],
   "source": [
    "w_r"
   ]
  },
  {
   "cell_type": "markdown",
   "id": "d9fdbce3-26f6-4f4b-9ccd-9ff778f90512",
   "metadata": {},
   "source": [
    "$$\\hbar w_q = \\sqrt{8E_C E_J} - E_C$$"
   ]
  },
  {
   "cell_type": "code",
   "execution_count": 27,
   "id": "810350cd-454d-4afb-85c4-de30b90a3ff1",
   "metadata": {},
   "outputs": [],
   "source": [
    "w_q = (np.sqrt(8 * Ec * Ej) - Ec)/h_bar ## !!!!!"
   ]
  },
  {
   "cell_type": "code",
   "execution_count": 28,
   "id": "ced63d9c-f1e2-49e9-8edd-934092f5e939",
   "metadata": {},
   "outputs": [
    {
     "data": {
      "text/plain": [
       "41438107863.30527"
      ]
     },
     "execution_count": 28,
     "metadata": {},
     "output_type": "execute_result"
    }
   ],
   "source": [
    "w_q"
   ]
  },
  {
   "cell_type": "markdown",
   "id": "169b7ff4-6dd0-43d7-adf4-fd42eca79301",
   "metadata": {},
   "source": [
    "### Q3(a)(ii)"
   ]
  },
  {
   "cell_type": "markdown",
   "id": "8ef5cf7b-93be-438e-9c2d-014410a20072",
   "metadata": {},
   "source": [
    "what is j?"
   ]
  }
 ],
 "metadata": {
  "kernelspec": {
   "display_name": "Python 3 (ipykernel)",
   "language": "python",
   "name": "python3"
  },
  "language_info": {
   "codemirror_mode": {
    "name": "ipython",
    "version": 3
   },
   "file_extension": ".py",
   "mimetype": "text/x-python",
   "name": "python",
   "nbconvert_exporter": "python",
   "pygments_lexer": "ipython3",
   "version": "3.10.13"
  }
 },
 "nbformat": 4,
 "nbformat_minor": 5
}
